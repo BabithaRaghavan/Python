{
 "cells": [
  {
   "cell_type": "markdown",
   "id": "d2fe696a",
   "metadata": {},
   "source": [
    "### Hangman Game"
   ]
  },
  {
   "cell_type": "code",
   "execution_count": null,
   "id": "46033122",
   "metadata": {},
   "outputs": [],
   "source": [
    "from string import ascii_lowercase\n",
    "from random_words import get_random_words\n",
    "import random"
   ]
  },
  {
   "cell_type": "code",
   "execution_count": null,
   "id": "3bee67bb",
   "metadata": {},
   "outputs": [],
   "source": [
    "def get_num_attempts():\n",
    "    \"\"\"Get user-inputted number of incorrect attempts for the game.\"\"\"\n",
    "    while True:\n",
    "        num_attempts = input('How many incorrect attempts do you want? [1-25] ')\n",
    "        try:\n",
    "            num_attempts = int(num_attempts)\n",
    "            if 1 <= num_attempts <= 25:\n",
    "                return num_attempts\n",
    "            else:\n",
    "                print('{0} is not between 1 and 25',format(num_attempts))\n",
    "        except ValueError:\n",
    "            print('{0} is not an integer between 1 and 25',format(num_attempts))\n"
   ]
  },
  {
   "cell_type": "code",
   "execution_count": null,
   "id": "74e47093",
   "metadata": {},
   "outputs": [],
   "source": [
    "def get_min_word_length():\n",
    "    \"\"\"Get user-inputted minimum word length for the game.\"\"\"\n",
    "    while True:\n",
    "        min_word_length = input( 'What minimum word length do you want? [4-16] ')\n",
    "        try:\n",
    "            min_word_length = int(min_word_length)\n",
    "            if 4 <= min_word_length <= 16:\n",
    "                return min_word_length\n",
    "            else:\n",
    "                print('{0} is not between 4 and 16',format(min_word_length))\n",
    "        except ValueError: print('{0} is not an integer between 4 and 16',format(min_word_length))\n"
   ]
  },
  {
   "cell_type": "code",
   "execution_count": null,
   "id": "ede6aafa",
   "metadata": {},
   "outputs": [],
   "source": [
    "def get_display_word(word, idxs):\n",
    "    \"\"\"Get the word suitable for display.\"\"\"\n",
    "    if len(word) != len(idxs):\n",
    "        print('Word length and indices length are not the same')\n",
    "    displayed_word = ''.join([letter if idxs[i] else '*' for i, letter in enumerate(word)])\n",
    "    return displayed_word.strip()\n"
   ]
  },
  {
   "cell_type": "code",
   "execution_count": null,
   "id": "d48b6d3f",
   "metadata": {},
   "outputs": [],
   "source": [
    "def get_next_letter(remaining_letters):\n",
    "    \"\"\"Get the user-inputted next letter.\"\"\"\n",
    "    if len(remaining_letters) == 0:\n",
    "        raise ValueError('There are no remaining letters')\n",
    "    while True:\n",
    "        next_letter = input('Choose the next letter: ').lower()\n",
    "        if len(next_letter) != 1:\n",
    "            print('{0} is not a single character'.format( next_letter))\n",
    "        elif next_letter not in ascii_lowercase:\n",
    "            print('{0} is not a letter'.format(next_letter))\n",
    "        elif next_letter not in remaining_letters:\n",
    "            print('{0} has been guessed before'.format(next_letter))\n",
    "        else:\n",
    "            remaining_letters.remove(next_letter)\n",
    "    return next_letter\n"
   ]
  },
  {
   "cell_type": "code",
   "execution_count": null,
   "id": "bd2cc07e",
   "metadata": {},
   "outputs": [],
   "source": [
    "def play_hangman():\n",
    "        \"\"\"Play a game of hangman.     At the end of the game, returns if the player wants to retry.\"\"\"\n",
    "        # Let player specify difficulty\n",
    "        print('Starting a game of Hangman...')\n",
    "        attempts_remaining = get_num_attempts()\n",
    "        min_word_length = get_min_word_length()\n",
    "        rwd = RandomWords()\n",
    "        # Randomly select a word\n",
    "        print('Selecting a word...')\n",
    "        word = rwd.get_random_words(min_word_length)\n",
    "        print()\n",
    "        # Initialize game state variables\n",
    "        idxs = [letter not in ascii_lowercase for letter in word]\n",
    "        remaining_letters = set(ascii_lowercase)\n",
    "        wrong_letters = []\n",
    "        word_solved = False\n",
    "        # Main game loop\n",
    "        while attempts_remaining > 0 and not word_solved:\n",
    "        # Print current game state\n",
    "            print('Word: {0}',format(get_display_word(word, idxs)))\n",
    "            print('Attempts Remaining: {0}',format(attempts_remaining))\n",
    "            print('Previous Guesses: {0}',format(' '.join(wrong_letters)))\n",
    "\n",
    "        # Get player's next letter guess\n",
    "        next_letter = get_next_letter(remaining_letters)\n",
    "\n",
    "        # Check if letter guess is in word\n",
    "        if next_letter in word:\n",
    "            # Guessed correctly\n",
    "            print('{0} is in the word!'.format(next_letter))\n",
    "\n",
    "            # Reveal matching letters\n",
    "            for i in range(len(word)):\n",
    "                if word[i] == next_letter:\n",
    "                    idxs[i] = True\n",
    "        else:\n",
    "            # Guessed incorrectly\n",
    "            print('{0} is NOT in the word!'.format(next_letter))\n",
    "\n",
    "            # Decrement num of attempts left and append guess to wrong guesses\n",
    "            attempts_remaining -= 1\n",
    "            wrong_letters.append(next_letter)\n",
    "\n",
    "        # Check if word is completely solved\n",
    "        if False not in idxs:\n",
    "            word_solved = True\n",
    "        print()\n",
    "\n",
    "        # The game is over: reveal the word\n",
    "        print('The word is {0}'.format(word))\n",
    "        # Notify player of victory or defeat\n",
    "        if word_solved:\n",
    "            print('Congratulations! You won!')\n",
    "        else:\n",
    "            print('Try again next time!')\n",
    "\n",
    "        # Ask player if he/she wants to try again\n",
    "        try_again = input('Would you like to try again? [y/Y] ')\n",
    "        return try_again.lower() == 'y'"
   ]
  },
  {
   "cell_type": "code",
   "execution_count": null,
   "id": "04d17f71",
   "metadata": {},
   "outputs": [],
   "source": [
    "if __name__ == '__main__':\n",
    "    while play_hangman():\n",
    "        print()\n"
   ]
  },
  {
   "cell_type": "code",
   "execution_count": null,
   "id": "15a66a55",
   "metadata": {},
   "outputs": [],
   "source": []
  }
 ],
 "metadata": {
  "kernelspec": {
   "display_name": "Python 3",
   "language": "python",
   "name": "python3"
  },
  "language_info": {
   "codemirror_mode": {
    "name": "ipython",
    "version": 3
   },
   "file_extension": ".py",
   "mimetype": "text/x-python",
   "name": "python",
   "nbconvert_exporter": "python",
   "pygments_lexer": "ipython3",
   "version": "3.8.8"
  }
 },
 "nbformat": 4,
 "nbformat_minor": 5
}
